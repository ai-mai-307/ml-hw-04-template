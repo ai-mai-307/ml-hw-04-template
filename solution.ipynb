{
 "cells": [
  {
   "cell_type": "markdown",
   "id": "e74e45ba",
   "metadata": {},
   "source": [
    "# Практическое задание №4. Деревья решений и ансамблевые модели"
   ]
  },
  {
   "cell_type": "markdown",
   "id": "a0a58434",
   "metadata": {},
   "source": [
    "## Загрузка данных такси за второе полугодие 2025 года"
   ]
  },
  {
   "cell_type": "code",
   "execution_count": 8,
   "id": "1a314010",
   "metadata": {},
   "outputs": [
    {
     "name": "stdout",
     "output_type": "stream",
     "text": [
      "<class 'pandas.core.frame.DataFrame'>\n",
      "RangeIndex: 11724069 entries, 0 to 11724068\n",
      "Data columns (total 14 columns):\n",
      " #   Column                 Dtype         \n",
      "---  ------                 -----         \n",
      " 0   VendorID               int32         \n",
      " 1   tpep_pickup_datetime   datetime64[us]\n",
      " 2   tpep_dropoff_datetime  datetime64[us]\n",
      " 3   passenger_count        float64       \n",
      " 4   trip_distance          float64       \n",
      " 5   RatecodeID             float64       \n",
      " 6   store_and_fwd_flag     object        \n",
      " 7   PULocationID           int32         \n",
      " 8   DOLocationID           int32         \n",
      " 9   payment_type           int64         \n",
      " 10  fare_amount            float64       \n",
      " 11  extra                  float64       \n",
      " 12  total_amount           float64       \n",
      " 13  cbd_congestion_fee     float64       \n",
      "dtypes: datetime64[us](2), float64(7), int32(3), int64(1), object(1)\n",
      "memory usage: 1.1+ GB\n"
     ]
    }
   ],
   "source": [
    "import pandas as pd\n",
    "\n",
    "src = '.' # поменяйте на путь к вашим данным\n",
    "\n",
    "pd.read_parquet(f\"{src}/nyc_2025_h2.parquet\").info()"
   ]
  },
  {
   "cell_type": "code",
   "execution_count": null,
   "id": "5f4e34e9",
   "metadata": {},
   "outputs": [],
   "source": []
  }
 ],
 "metadata": {
  "kernelspec": {
   "display_name": ".venv",
   "language": "python",
   "name": "python3"
  },
  "language_info": {
   "codemirror_mode": {
    "name": "ipython",
    "version": 3
   },
   "file_extension": ".py",
   "mimetype": "text/x-python",
   "name": "python",
   "nbconvert_exporter": "python",
   "pygments_lexer": "ipython3",
   "version": "3.13.9"
  }
 },
 "nbformat": 4,
 "nbformat_minor": 5
}
